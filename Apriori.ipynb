{
 "cells": [
  {
   "cell_type": "code",
   "execution_count": 1,
   "metadata": {},
   "outputs": [],
   "source": [
    "import numpy as np # linear algebra\n",
    "import pandas as pd # data processing, CSV file I/O (e.g. pd.read_csv)\n",
    "import matplotlib.pyplot as plt \n",
    "from scipy.special import comb\n",
    "from itertools import combinations, permutations\n",
    "import os"
   ]
  },
  {
   "cell_type": "code",
   "execution_count": 2,
   "metadata": {},
   "outputs": [],
   "source": [
    "#Read in data\n",
    "df = pd.read_csv('transactions1.csv', header = None)\n",
    "df2 =  pd.read_csv('transaction2.csv', header = None)\n",
    "df3 =  pd.read_csv('transaction3.csv', header = None)\n",
    "df4 =  pd.read_csv('transaction4.csv', header = None)\n",
    "df5 =  pd.read_csv('transaction5.csv', header = None)"
   ]
  },
  {
   "cell_type": "code",
   "execution_count": 3,
   "metadata": {},
   "outputs": [],
   "source": [
    "def apyori(df, minimum_support, confidence):\n",
    "    df_values = df.values.astype(str)\n",
    "    index, counts = np.unique(df_values,return_counts=True)\n",
    "    df_item = pd.DataFrame(zip(index, counts), columns = ['produto', 'frequencia'])\n",
    "    df_item.drop(df_item[(df_item['produto'] == 'nan' )|(df_item['produto'] == 'None' )].index, inplace=True)\n",
    "    df_item.sort_values(by='frequencia', ascending=False, inplace=True)\n",
    "    df_item.reset_index(drop=True, inplace=True)\n",
    "    df_item_frequent = df_item[df_item['frequencia']>= minimum_support*len(df)]\n",
    "    df_itemset_frequencia = pd.DataFrame(columns=['itemset', 'frequencia'])\n",
    "    for i in range(1, len(df_item_frequent)+1):\n",
    "        comb = list(combinations(df_item_frequent['produto'].values, i) )\n",
    "        for w in comb:\n",
    "            count = 0 \n",
    "            for instancia in df_values:\n",
    "                if all(elem in instancia  for elem in w):\n",
    "                    count = count +1\n",
    "            if count >= (minimum_support*len(df)/2):#tirar /2\n",
    "                df_itemset_frequencia = df_itemset_frequencia.append({'itemset':w, 'frequencia':count}, ignore_index=True)\n",
    "    df_itemset_frequencia.sort_values(by='frequencia', inplace=True, ascending=False)\n",
    "    confiabilidade = pd.DataFrame(columns=['regras', 'frequencia', 'confiabilidade'])\n",
    "    for w in df_itemset_frequencia['itemset'].values:\n",
    "        w_p = list(permutations(w,len(w)))\n",
    "        for j in w_p:\n",
    "            #print (len(j[0]))\n",
    "\n",
    "            p_uniao = []\n",
    "            for i in range(len(j)):\n",
    "\n",
    "                count = 0 \n",
    "                for instancia in df_values:\n",
    "                    if all(elem in instancia  for elem in j[i:]):\n",
    "                        count = count +1\n",
    "                p_uniao.append(count/len(df))\n",
    "\n",
    "            if len(j) != 1:\n",
    "                a = p_uniao[-2]/p_uniao[-1]\n",
    "\n",
    "                for i in range(len(p_uniao)-2):\n",
    "                    a = p_uniao[-i-3]/a\n",
    "                j = list(j)\n",
    "                j.reverse()\n",
    "                confiabilidade = confiabilidade.append({'regras':j, 'frequencia':p_uniao[0], 'confiabilidade':a}, ignore_index=True)\n",
    "            else:\n",
    "                confiabilidade = confiabilidade.append({'regras':j, 'frequencia':p_uniao[0], 'confiabilidade':p_uniao[0]}, ignore_index=True)\n",
    "    confiabilidade.sort_values(by='frequencia', ascending=False)\n",
    "    return confiabilidade[confiabilidade['confiabilidade']>=confidence]\n"
   ]
  },
  {
   "cell_type": "code",
   "execution_count": 4,
   "metadata": {},
   "outputs": [
    {
     "name": "stdout",
     "output_type": "stream",
     "text": [
      "Enter the minimum support value (0 to 1 values) for transaction 1: 5\n",
      "Enter the minimum confidence value(0 to 1 values) for transaction 1: 7\n",
      "Enter the minimum support value(0 to 1 values) for transaction 2: 4\n",
      "Enter the minimum confidence value(0 to 1 values) for transaction 2: 6\n",
      "Enter the minimum support value(0 to 1 values) for transaction 3: 5\n",
      "Enter the minimum confidence value(0 to 1 values) for transaction 3: 8\n",
      "Enter the minimum support value(0 to 1 values) for transaction 4: 6\n",
      "Enter the minimum confidence value(0 to 1 values) for transaction 4: 8\n",
      "Enter the minimum support value(0 to 1 values) for transaction 5: 7\n",
      "Enter the minimum confidence value(0 to 1 values) for transaction 5: 7\n"
     ]
    }
   ],
   "source": [
    "support = input('Enter the minimum support value (0 to 1 values) for transaction 1: ')\n",
    "confidence = input('Enter the minimum confidence value(0 to 1 values) for transaction 1: ')\n",
    "\n",
    "support2 = input('Enter the minimum support value(0 to 1 values) for transaction 2: ')\n",
    "confidence2 = input('Enter the minimum confidence value(0 to 1 values) for transaction 2: ')\n",
    "\n",
    "support3 = input('Enter the minimum support value(0 to 1 values) for transaction 3: ')\n",
    "confidence3 = input('Enter the minimum confidence value(0 to 1 values) for transaction 3: ')\n",
    "\n",
    "support4 = input('Enter the minimum support value(0 to 1 values) for transaction 4: ')\n",
    "confidence4 = input('Enter the minimum confidence value(0 to 1 values) for transaction 4: ')\n",
    "\n",
    "support5 = input('Enter the minimum support value(0 to 1 values) for transaction 5: ')\n",
    "confidence5 = input('Enter the minimum confidence value(0 to 1 values) for transaction 5: ')"
   ]
  },
  {
   "cell_type": "code",
   "execution_count": 5,
   "metadata": {},
   "outputs": [],
   "source": [
    "apyori(df, float(support), float(confidence)).to_csv('Apriori_output_transaction1.csv')\n",
    "apyori(df2, float(support2), float(confidence2)).to_csv('Apriori_output_transaction2.csv')\n",
    "apyori(df3, float(support3), float(confidence3)).to_csv('Apriori_output_transaction3.csv')\n",
    "apyori(df4, float(support4), float(confidence4)).to_csv('Apriori_output_transaction4.csv')\n",
    "apyori(df5, float(support5), float(confidence5)).to_csv('Apriori_output_transaction5.csv')"
   ]
  },
  {
   "cell_type": "code",
   "execution_count": null,
   "metadata": {},
   "outputs": [],
   "source": []
  }
 ],
 "metadata": {
  "kernelspec": {
   "display_name": "Python 3",
   "language": "python",
   "name": "python3"
  },
  "language_info": {
   "codemirror_mode": {
    "name": "ipython",
    "version": 3
   },
   "file_extension": ".py",
   "mimetype": "text/x-python",
   "name": "python",
   "nbconvert_exporter": "python",
   "pygments_lexer": "ipython3",
   "version": "3.7.3"
  }
 },
 "nbformat": 4,
 "nbformat_minor": 2
}
